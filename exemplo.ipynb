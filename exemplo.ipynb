{
  "nbformat": 4,
  "nbformat_minor": 0,
  "metadata": {
    "colab": {
      "name": "exemplo.ipynb",
      "provenance": [],
      "authorship_tag": "ABX9TyMIsPsqTxoj66UYu1M6dSD1",
      "include_colab_link": true
    },
    "kernelspec": {
      "name": "python3",
      "display_name": "Python 3"
    }
  },
  "cells": [
    {
      "cell_type": "markdown",
      "metadata": {
        "id": "view-in-github",
        "colab_type": "text"
      },
      "source": [
        "<a href=\"https://colab.research.google.com/github/darkios20/Teste/blob/master/exemplo.ipynb\" target=\"_parent\"><img src=\"https://colab.research.google.com/assets/colab-badge.svg\" alt=\"Open In Colab\"/></a>"
      ]
    },
    {
      "cell_type": "code",
      "metadata": {
        "id": "JvNfHvPR0jON",
        "colab_type": "code",
        "colab": {}
      },
      "source": [
        "### isto é um comando de saida\n",
        "print('ola mundo')\n",
        "print('hello word')\n",
        "\n",
        "# a hastag é um comentário no código , ou seja , o programa n irá processar nenhuma linha com hastag\n",
        "# o comando print() mostra na tela, ou seja, é uma saída de valor(es). \n",
        "# O conteúdo texto deve estar entre aspas (simples ou dupla)\n",
        "\n",
        "'''\n",
        "isto é\n",
        "um comentário de múltiplas linhas\n",
        "\n",
        "'''"
      ],
      "execution_count": null,
      "outputs": []
    }
  ]
}